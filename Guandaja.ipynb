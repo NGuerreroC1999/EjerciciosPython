{
 "cells": [
  {
   "cell_type": "code",
   "execution_count": 1,
   "metadata": {},
   "outputs": [],
   "source": [
    "import unidecode\n"
   ]
  },
  {
   "cell_type": "code",
   "execution_count": 2,
   "metadata": {},
   "outputs": [],
   "source": [
    "poema = open('revueltas.txt','r')"
   ]
  },
  {
   "cell_type": "code",
   "execution_count": 3,
   "metadata": {},
   "outputs": [],
   "source": [
    "lista = poema.read()"
   ]
  },
  {
   "cell_type": "code",
   "execution_count": 4,
   "metadata": {},
   "outputs": [
    {
     "data": {
      "text/plain": [
       "'EL ENCUENTRO\\n\\n   UNA LARGA, tremenda isla de sombra no me dejaba llegar a ti.\\n   No, aun cuando tu nombre ya lo tenía en los labios.\\n\\n   Pero una isla.\\n   Pero un terrible recuerdo y un amor que no pudo atreverse nunca.\\n\\n   Y hasta hoy te reconozco, escondida en ti,\\n     descubierta en mí.\\n   Algo impronunciable no me dejó llegar.\\n\\n   Y te veo hoy.\\n   Algo como una espantosa isla sin palabras donde\\n     nunca pude decir te quiero.\\n   Eres, sin embargo\\n   Una quieta verdad gótica, impasible,\\n     extraordinariamente pura.\\n  \\n   No olvides: una isla que me dejó náufrago y no\\n     quiso entender las únicas palabras que no le dije.\\n     Un mar que no quería dejarme, un enemigo mar,\\n     lleno de amor.\\n\\n   Y hoy te veo\\n   Hoy, como un ancla. Como un cuerpo profundo,\\n     naces.\\n   Tu hermosa, tu dulce fragilidad, como un pequeño\\n     vaso al que podrían romper mis besos; tu\\n     cuerpo vertebrado donde casi no tiene lugar\\n     ni habitación mis labios. Los vivos, vivísimos\\n     planetas de tus ojos. Tu sencillísima entrega.\\n   En silencio, sin voz, en mí estabas con tus brazos\\n     inmensos.\\n   Hoy los toco y son como un imposible horizonte en\\n     que todo se ha perdido y no he de volverte a ver.\\n   ¡Te he perdido tanto desde entonces!\\n   ¡Tanta y dura y grave nostalgia desde entonces!\\n   Y hoy, de pie y lleno de sollozos ante tu cristal,\\n   qué gran miedo de que no aparezcas, qué profundo\\n     miedo de que mi palabra vague y se pierda sin ti.\\n\\n   He de decirte tantas calladas cosas. No importa\\n   Tantas que no caben ni en el tuyo ni en mi corazón.\\n   El espantoso miedo de que llame y  llame y llame y\\n     llame\\n     y tú dulcemente  te me mueras, callada.\\n\\n   Infinita, dulce y callada.\\n18 de abril de 1947.\\n\\n'"
      ]
     },
     "execution_count": 4,
     "metadata": {},
     "output_type": "execute_result"
    }
   ],
   "source": [
    "lista\n"
   ]
  },
  {
   "cell_type": "code",
   "execution_count": 5,
   "metadata": {},
   "outputs": [
    {
     "data": {
      "text/plain": [
       "'EL ENCUENTRO\\n\\n   UNA LARGA, TREMENDA ISLA DE SOMBRA NO ME DEJABA LLEGAR A TI.\\n   NO, AUN CUANDO TU NOMBRE YA LO TENÍA EN LOS LABIOS.\\n\\n   PERO UNA ISLA.\\n   PERO UN TERRIBLE RECUERDO Y UN AMOR QUE NO PUDO ATREVERSE NUNCA.\\n\\n   Y HASTA HOY TE RECONOZCO, ESCONDIDA EN TI,\\n     DESCUBIERTA EN MÍ.\\n   ALGO IMPRONUNCIABLE NO ME DEJÓ LLEGAR.\\n\\n   Y TE VEO HOY.\\n   ALGO COMO UNA ESPANTOSA ISLA SIN PALABRAS DONDE\\n     NUNCA PUDE DECIR TE QUIERO.\\n   ERES, SIN EMBARGO\\n   UNA QUIETA VERDAD GÓTICA, IMPASIBLE,\\n     EXTRAORDINARIAMENTE PURA.\\n  \\n   NO OLVIDES: UNA ISLA QUE ME DEJÓ NÁUFRAGO Y NO\\n     QUISO ENTENDER LAS ÚNICAS PALABRAS QUE NO LE DIJE.\\n     UN MAR QUE NO QUERÍA DEJARME, UN ENEMIGO MAR,\\n     LLENO DE AMOR.\\n\\n   Y HOY TE VEO\\n   HOY, COMO UN ANCLA. COMO UN CUERPO PROFUNDO,\\n     NACES.\\n   TU HERMOSA, TU DULCE FRAGILIDAD, COMO UN PEQUEÑO\\n     VASO AL QUE PODRÍAN ROMPER MIS BESOS; TU\\n     CUERPO VERTEBRADO DONDE CASI NO TIENE LUGAR\\n     NI HABITACIÓN MIS LABIOS. LOS VIVOS, VIVÍSIMOS\\n     PLANETAS DE TUS OJOS. TU SENCILLÍSIMA ENTREGA.\\n   EN SILENCIO, SIN VOZ, EN MÍ ESTABAS CON TUS BRAZOS\\n     INMENSOS.\\n   HOY LOS TOCO Y SON COMO UN IMPOSIBLE HORIZONTE EN\\n     QUE TODO SE HA PERDIDO Y NO HE DE VOLVERTE A VER.\\n   ¡TE HE PERDIDO TANTO DESDE ENTONCES!\\n   ¡TANTA Y DURA Y GRAVE NOSTALGIA DESDE ENTONCES!\\n   Y HOY, DE PIE Y LLENO DE SOLLOZOS ANTE TU CRISTAL,\\n   QUÉ GRAN MIEDO DE QUE NO APAREZCAS, QUÉ PROFUNDO\\n     MIEDO DE QUE MI PALABRA VAGUE Y SE PIERDA SIN TI.\\n\\n   HE DE DECIRTE TANTAS CALLADAS COSAS. NO IMPORTA\\n   TANTAS QUE NO CABEN NI EN EL TUYO NI EN MI CORAZÓN.\\n   EL ESPANTOSO MIEDO DE QUE LLAME Y  LLAME Y LLAME Y\\n     LLAME\\n     Y TÚ DULCEMENTE  TE ME MUERAS, CALLADA.\\n\\n   INFINITA, DULCE Y CALLADA.\\n18 DE ABRIL DE 1947.\\n\\n'"
      ]
     },
     "execution_count": 5,
     "metadata": {},
     "output_type": "execute_result"
    }
   ],
   "source": [
    "lista.upper()"
   ]
  },
  {
   "cell_type": "code",
   "execution_count": 6,
   "metadata": {},
   "outputs": [
    {
     "data": {
      "text/plain": [
       "['EL ENCUENTRO',\n",
       " '',\n",
       " '   UNA LARGA, tremenda isla de sombra no me dejaba llegar a ti.',\n",
       " '   No, aun cuando tu nombre ya lo tenía en los labios.',\n",
       " '',\n",
       " '   Pero una isla.',\n",
       " '   Pero un terrible recuerdo y un amor que no pudo atreverse nunca.',\n",
       " '',\n",
       " '   Y hasta hoy te reconozco, escondida en ti,',\n",
       " '     descubierta en mí.',\n",
       " '   Algo impronunciable no me dejó llegar.',\n",
       " '',\n",
       " '   Y te veo hoy.',\n",
       " '   Algo como una espantosa isla sin palabras donde',\n",
       " '     nunca pude decir te quiero.',\n",
       " '   Eres, sin embargo',\n",
       " '   Una quieta verdad gótica, impasible,',\n",
       " '     extraordinariamente pura.',\n",
       " '  ',\n",
       " '   No olvides: una isla que me dejó náufrago y no',\n",
       " '     quiso entender las únicas palabras que no le dije.',\n",
       " '     Un mar que no quería dejarme, un enemigo mar,',\n",
       " '     lleno de amor.',\n",
       " '',\n",
       " '   Y hoy te veo',\n",
       " '   Hoy, como un ancla. Como un cuerpo profundo,',\n",
       " '     naces.',\n",
       " '   Tu hermosa, tu dulce fragilidad, como un pequeño',\n",
       " '     vaso al que podrían romper mis besos; tu',\n",
       " '     cuerpo vertebrado donde casi no tiene lugar',\n",
       " '     ni habitación mis labios. Los vivos, vivísimos',\n",
       " '     planetas de tus ojos. Tu sencillísima entrega.',\n",
       " '   En silencio, sin voz, en mí estabas con tus brazos',\n",
       " '     inmensos.',\n",
       " '   Hoy los toco y son como un imposible horizonte en',\n",
       " '     que todo se ha perdido y no he de volverte a ver.',\n",
       " '   ¡Te he perdido tanto desde entonces!',\n",
       " '   ¡Tanta y dura y grave nostalgia desde entonces!',\n",
       " '   Y hoy, de pie y lleno de sollozos ante tu cristal,',\n",
       " '   qué gran miedo de que no aparezcas, qué profundo',\n",
       " '     miedo de que mi palabra vague y se pierda sin ti.',\n",
       " '',\n",
       " '   He de decirte tantas calladas cosas. No importa',\n",
       " '   Tantas que no caben ni en el tuyo ni en mi corazón.',\n",
       " '   El espantoso miedo de que llame y  llame y llame y',\n",
       " '     llame',\n",
       " '     y tú dulcemente  te me mueras, callada.',\n",
       " '',\n",
       " '   Infinita, dulce y callada.',\n",
       " '18 de abril de 1947.',\n",
       " '',\n",
       " '']"
      ]
     },
     "execution_count": 6,
     "metadata": {},
     "output_type": "execute_result"
    }
   ],
   "source": [
    "lista.split('\\n')"
   ]
  },
  {
   "cell_type": "code",
   "execution_count": 7,
   "metadata": {},
   "outputs": [
    {
     "data": {
      "text/plain": [
       "'el encuentro\\n\\n   una larga, tremenda isla de sombra no me dejaba llegar a ti.\\n   no, aun cuando tu nombre ya lo tenía en los labios.\\n\\n   pero una isla.\\n   pero un terrible recuerdo y un amor que no pudo atreverse nunca.\\n\\n   y hasta hoy te reconozco, escondida en ti,\\n     descubierta en mí.\\n   algo impronunciable no me dejó llegar.\\n\\n   y te veo hoy.\\n   algo como una espantosa isla sin palabras donde\\n     nunca pude decir te quiero.\\n   eres, sin embargo\\n   una quieta verdad gótica, impasible,\\n     extraordinariamente pura.\\n  \\n   no olvides: una isla que me dejó náufrago y no\\n     quiso entender las únicas palabras que no le dije.\\n     un mar que no quería dejarme, un enemigo mar,\\n     lleno de amor.\\n\\n   y hoy te veo\\n   hoy, como un ancla. como un cuerpo profundo,\\n     naces.\\n   tu hermosa, tu dulce fragilidad, como un pequeño\\n     vaso al que podrían romper mis besos; tu\\n     cuerpo vertebrado donde casi no tiene lugar\\n     ni habitación mis labios. los vivos, vivísimos\\n     planetas de tus ojos. tu sencillísima entrega.\\n   en silencio, sin voz, en mí estabas con tus brazos\\n     inmensos.\\n   hoy los toco y son como un imposible horizonte en\\n     que todo se ha perdido y no he de volverte a ver.\\n   ¡te he perdido tanto desde entonces!\\n   ¡tanta y dura y grave nostalgia desde entonces!\\n   y hoy, de pie y lleno de sollozos ante tu cristal,\\n   qué gran miedo de que no aparezcas, qué profundo\\n     miedo de que mi palabra vague y se pierda sin ti.\\n\\n   he de decirte tantas calladas cosas. no importa\\n   tantas que no caben ni en el tuyo ni en mi corazón.\\n   el espantoso miedo de que llame y  llame y llame y\\n     llame\\n     y tú dulcemente  te me mueras, callada.\\n\\n   infinita, dulce y callada.\\n18 de abril de 1947.\\n\\n'"
      ]
     },
     "execution_count": 7,
     "metadata": {},
     "output_type": "execute_result"
    }
   ],
   "source": [
    "lista.lower()\n",
    "\n"
   ]
  },
  {
   "cell_type": "code",
   "execution_count": 8,
   "metadata": {},
   "outputs": [
    {
     "data": {
      "text/plain": [
       "['EL ENCUENTRO\\n\\n   UNA LARGA, tremenda isla de sombra no me dejaba llegar a ti.\\n   No, aun cuando tu nombre ya lo tenía en los labios.\\n\\n   Pero una isla.\\n   Pero un terrible recuerdo y un amor que no pudo atreverse nunca.\\n\\n   Y hasta hoy te reconozco, escondida en ti,\\n     descubierta en mí.\\n   Algo impronunciable no me dejó llegar.\\n\\n   Y te veo hoy.\\n   Algo como una espantosa isla sin palabras donde\\n     nunca pude decir te quiero.\\n   Eres, sin embargo\\n   Una quieta verdad gótica, impasible,\\n     extraordinariamente pura.\\n ',\n",
       " '   No olvides: una isla que me dejó náufrago y no\\n     quiso entender las únicas palabras que no le dije.\\n     Un mar que no quería dejarme, un enemigo mar,\\n     lleno de amor.\\n\\n   Y hoy te veo\\n   Hoy, como un ancla. Como un cuerpo profundo,\\n     naces.\\n   Tu hermosa, tu dulce fragilidad, como un pequeño\\n     vaso al que podrían romper mis besos; tu\\n     cuerpo vertebrado donde casi no tiene lugar\\n     ni habitación mis labios. Los vivos, vivísimos\\n     planetas de tus ojos. Tu sencillísima entrega.\\n   En silencio, sin voz, en mí estabas con tus brazos\\n     inmensos.\\n   Hoy los toco y son como un imposible horizonte en\\n     que todo se ha perdido y no he de volverte a ver.\\n   ¡Te he perdido tanto desde entonces!\\n   ¡Tanta y dura y grave nostalgia desde entonces!\\n   Y hoy, de pie y lleno de sollozos ante tu cristal,\\n   qué gran miedo de que no aparezcas, qué profundo\\n     miedo de que mi palabra vague y se pierda sin ti.\\n\\n   He de decirte tantas calladas cosas. No importa\\n   Tantas que no caben ni en el tuyo ni en mi corazón.\\n   El espantoso miedo de que llame y  llame y llame y\\n     llame\\n     y tú dulcemente  te me mueras, callada.\\n\\n   Infinita, dulce y callada.\\n18 de abril de 1947.\\n\\n']"
      ]
     },
     "execution_count": 8,
     "metadata": {},
     "output_type": "execute_result"
    }
   ],
   "source": [
    "lista.split(' \\n')"
   ]
  },
  {
   "cell_type": "code",
   "execution_count": 9,
   "metadata": {},
   "outputs": [],
   "source": [
    "arreglo = lista.lower()"
   ]
  },
  {
   "cell_type": "code",
   "execution_count": 10,
   "metadata": {},
   "outputs": [
    {
     "data": {
      "text/plain": [
       "'el encuentro\\n\\n   una larga, tremenda isla de sombra no me dejaba llegar a ti.\\n   no, aun cuando tu nombre ya lo tenía en los labios.\\n\\n   pero una isla.\\n   pero un terrible recuerdo y un amor que no pudo atreverse nunca.\\n\\n   y hasta hoy te reconozco, escondida en ti,\\n     descubierta en mí.\\n   algo impronunciable no me dejó llegar.\\n\\n   y te veo hoy.\\n   algo como una espantosa isla sin palabras donde\\n     nunca pude decir te quiero.\\n   eres, sin embargo\\n   una quieta verdad gótica, impasible,\\n     extraordinariamente pura.\\n  \\n   no olvides: una isla que me dejó náufrago y no\\n     quiso entender las únicas palabras que no le dije.\\n     un mar que no quería dejarme, un enemigo mar,\\n     lleno de amor.\\n\\n   y hoy te veo\\n   hoy, como un ancla. como un cuerpo profundo,\\n     naces.\\n   tu hermosa, tu dulce fragilidad, como un pequeño\\n     vaso al que podrían romper mis besos; tu\\n     cuerpo vertebrado donde casi no tiene lugar\\n     ni habitación mis labios. los vivos, vivísimos\\n     planetas de tus ojos. tu sencillísima entrega.\\n   en silencio, sin voz, en mí estabas con tus brazos\\n     inmensos.\\n   hoy los toco y son como un imposible horizonte en\\n     que todo se ha perdido y no he de volverte a ver.\\n   ¡te he perdido tanto desde entonces!\\n   ¡tanta y dura y grave nostalgia desde entonces!\\n   y hoy, de pie y lleno de sollozos ante tu cristal,\\n   qué gran miedo de que no aparezcas, qué profundo\\n     miedo de que mi palabra vague y se pierda sin ti.\\n\\n   he de decirte tantas calladas cosas. no importa\\n   tantas que no caben ni en el tuyo ni en mi corazón.\\n   el espantoso miedo de que llame y  llame y llame y\\n     llame\\n     y tú dulcemente  te me mueras, callada.\\n\\n   infinita, dulce y callada.\\n18 de abril de 1947.\\n\\n'"
      ]
     },
     "execution_count": 10,
     "metadata": {},
     "output_type": "execute_result"
    }
   ],
   "source": [
    "arreglo\n"
   ]
  },
  {
   "cell_type": "code",
   "execution_count": 11,
   "metadata": {},
   "outputs": [],
   "source": [
    "arreglo1 = arreglo.replace(',', ' ')"
   ]
  },
  {
   "cell_type": "code",
   "execution_count": 12,
   "metadata": {},
   "outputs": [
    {
     "data": {
      "text/plain": [
       "'el encuentro\\n\\n   una larga  tremenda isla de sombra no me dejaba llegar a ti.\\n   no  aun cuando tu nombre ya lo tenía en los labios.\\n\\n   pero una isla.\\n   pero un terrible recuerdo y un amor que no pudo atreverse nunca.\\n\\n   y hasta hoy te reconozco  escondida en ti \\n     descubierta en mí.\\n   algo impronunciable no me dejó llegar.\\n\\n   y te veo hoy.\\n   algo como una espantosa isla sin palabras donde\\n     nunca pude decir te quiero.\\n   eres  sin embargo\\n   una quieta verdad gótica  impasible \\n     extraordinariamente pura.\\n  \\n   no olvides: una isla que me dejó náufrago y no\\n     quiso entender las únicas palabras que no le dije.\\n     un mar que no quería dejarme  un enemigo mar \\n     lleno de amor.\\n\\n   y hoy te veo\\n   hoy  como un ancla. como un cuerpo profundo \\n     naces.\\n   tu hermosa  tu dulce fragilidad  como un pequeño\\n     vaso al que podrían romper mis besos; tu\\n     cuerpo vertebrado donde casi no tiene lugar\\n     ni habitación mis labios. los vivos  vivísimos\\n     planetas de tus ojos. tu sencillísima entrega.\\n   en silencio  sin voz  en mí estabas con tus brazos\\n     inmensos.\\n   hoy los toco y son como un imposible horizonte en\\n     que todo se ha perdido y no he de volverte a ver.\\n   ¡te he perdido tanto desde entonces!\\n   ¡tanta y dura y grave nostalgia desde entonces!\\n   y hoy  de pie y lleno de sollozos ante tu cristal \\n   qué gran miedo de que no aparezcas  qué profundo\\n     miedo de que mi palabra vague y se pierda sin ti.\\n\\n   he de decirte tantas calladas cosas. no importa\\n   tantas que no caben ni en el tuyo ni en mi corazón.\\n   el espantoso miedo de que llame y  llame y llame y\\n     llame\\n     y tú dulcemente  te me mueras  callada.\\n\\n   infinita  dulce y callada.\\n18 de abril de 1947.\\n\\n'"
      ]
     },
     "execution_count": 12,
     "metadata": {},
     "output_type": "execute_result"
    }
   ],
   "source": [
    "arreglo1"
   ]
  },
  {
   "cell_type": "code",
   "execution_count": 13,
   "metadata": {},
   "outputs": [],
   "source": [
    "arreglo2 = arreglo1.replace('¡', ' ')"
   ]
  },
  {
   "cell_type": "code",
   "execution_count": 14,
   "metadata": {},
   "outputs": [
    {
     "data": {
      "text/plain": [
       "'el encuentro\\n\\n   una larga  tremenda isla de sombra no me dejaba llegar a ti.\\n   no  aun cuando tu nombre ya lo tenía en los labios.\\n\\n   pero una isla.\\n   pero un terrible recuerdo y un amor que no pudo atreverse nunca.\\n\\n   y hasta hoy te reconozco  escondida en ti \\n     descubierta en mí.\\n   algo impronunciable no me dejó llegar.\\n\\n   y te veo hoy.\\n   algo como una espantosa isla sin palabras donde\\n     nunca pude decir te quiero.\\n   eres  sin embargo\\n   una quieta verdad gótica  impasible \\n     extraordinariamente pura.\\n  \\n   no olvides: una isla que me dejó náufrago y no\\n     quiso entender las únicas palabras que no le dije.\\n     un mar que no quería dejarme  un enemigo mar \\n     lleno de amor.\\n\\n   y hoy te veo\\n   hoy  como un ancla. como un cuerpo profundo \\n     naces.\\n   tu hermosa  tu dulce fragilidad  como un pequeño\\n     vaso al que podrían romper mis besos; tu\\n     cuerpo vertebrado donde casi no tiene lugar\\n     ni habitación mis labios. los vivos  vivísimos\\n     planetas de tus ojos. tu sencillísima entrega.\\n   en silencio  sin voz  en mí estabas con tus brazos\\n     inmensos.\\n   hoy los toco y son como un imposible horizonte en\\n     que todo se ha perdido y no he de volverte a ver.\\n    te he perdido tanto desde entonces!\\n    tanta y dura y grave nostalgia desde entonces!\\n   y hoy  de pie y lleno de sollozos ante tu cristal \\n   qué gran miedo de que no aparezcas  qué profundo\\n     miedo de que mi palabra vague y se pierda sin ti.\\n\\n   he de decirte tantas calladas cosas. no importa\\n   tantas que no caben ni en el tuyo ni en mi corazón.\\n   el espantoso miedo de que llame y  llame y llame y\\n     llame\\n     y tú dulcemente  te me mueras  callada.\\n\\n   infinita  dulce y callada.\\n18 de abril de 1947.\\n\\n'"
      ]
     },
     "execution_count": 14,
     "metadata": {},
     "output_type": "execute_result"
    }
   ],
   "source": [
    "arreglo2"
   ]
  },
  {
   "cell_type": "code",
   "execution_count": 15,
   "metadata": {},
   "outputs": [],
   "source": [
    "arreglo2 = arreglo1.replace('¡', ' ')"
   ]
  },
  {
   "cell_type": "code",
   "execution_count": null,
   "metadata": {},
   "outputs": [],
   "source": []
  },
  {
   "cell_type": "code",
   "execution_count": 19,
   "metadata": {},
   "outputs": [],
   "source": [
    "arreglo3 = arreglo2.replace('.', ' ')"
   ]
  },
  {
   "cell_type": "code",
   "execution_count": 20,
   "metadata": {},
   "outputs": [
    {
     "data": {
      "text/plain": [
       "'el encuentro\\n\\n   una larga  tremenda isla de sombra no me dejaba llegar a ti \\n   no  aun cuando tu nombre ya lo tenía en los labios \\n\\n   pero una isla \\n   pero un terrible recuerdo y un amor que no pudo atreverse nunca \\n\\n   y hasta hoy te reconozco  escondida en ti \\n     descubierta en mí \\n   algo impronunciable no me dejó llegar \\n\\n   y te veo hoy \\n   algo como una espantosa isla sin palabras donde\\n     nunca pude decir te quiero \\n   eres  sin embargo\\n   una quieta verdad gótica  impasible \\n     extraordinariamente pura \\n  \\n   no olvides: una isla que me dejó náufrago y no\\n     quiso entender las únicas palabras que no le dije \\n     un mar que no quería dejarme  un enemigo mar \\n     lleno de amor \\n\\n   y hoy te veo\\n   hoy  como un ancla  como un cuerpo profundo \\n     naces \\n   tu hermosa  tu dulce fragilidad  como un pequeño\\n     vaso al que podrían romper mis besos; tu\\n     cuerpo vertebrado donde casi no tiene lugar\\n     ni habitación mis labios  los vivos  vivísimos\\n     planetas de tus ojos  tu sencillísima entrega \\n   en silencio  sin voz  en mí estabas con tus brazos\\n     inmensos \\n   hoy los toco y son como un imposible horizonte en\\n     que todo se ha perdido y no he de volverte a ver \\n    te he perdido tanto desde entonces!\\n    tanta y dura y grave nostalgia desde entonces!\\n   y hoy  de pie y lleno de sollozos ante tu cristal \\n   qué gran miedo de que no aparezcas  qué profundo\\n     miedo de que mi palabra vague y se pierda sin ti \\n\\n   he de decirte tantas calladas cosas  no importa\\n   tantas que no caben ni en el tuyo ni en mi corazón \\n   el espantoso miedo de que llame y  llame y llame y\\n     llame\\n     y tú dulcemente  te me mueras  callada \\n\\n   infinita  dulce y callada \\n18 de abril de 1947 \\n\\n'"
      ]
     },
     "execution_count": 20,
     "metadata": {},
     "output_type": "execute_result"
    }
   ],
   "source": [
    "arreglo3"
   ]
  },
  {
   "cell_type": "code",
   "execution_count": 21,
   "metadata": {},
   "outputs": [],
   "source": [
    "arreglo4 = arreglo3.replace(':', ' ')"
   ]
  },
  {
   "cell_type": "code",
   "execution_count": 22,
   "metadata": {},
   "outputs": [
    {
     "data": {
      "text/plain": [
       "'el encuentro\\n\\n   una larga  tremenda isla de sombra no me dejaba llegar a ti \\n   no  aun cuando tu nombre ya lo tenía en los labios \\n\\n   pero una isla \\n   pero un terrible recuerdo y un amor que no pudo atreverse nunca \\n\\n   y hasta hoy te reconozco  escondida en ti \\n     descubierta en mí \\n   algo impronunciable no me dejó llegar \\n\\n   y te veo hoy \\n   algo como una espantosa isla sin palabras donde\\n     nunca pude decir te quiero \\n   eres  sin embargo\\n   una quieta verdad gótica  impasible \\n     extraordinariamente pura \\n  \\n   no olvides  una isla que me dejó náufrago y no\\n     quiso entender las únicas palabras que no le dije \\n     un mar que no quería dejarme  un enemigo mar \\n     lleno de amor \\n\\n   y hoy te veo\\n   hoy  como un ancla  como un cuerpo profundo \\n     naces \\n   tu hermosa  tu dulce fragilidad  como un pequeño\\n     vaso al que podrían romper mis besos; tu\\n     cuerpo vertebrado donde casi no tiene lugar\\n     ni habitación mis labios  los vivos  vivísimos\\n     planetas de tus ojos  tu sencillísima entrega \\n   en silencio  sin voz  en mí estabas con tus brazos\\n     inmensos \\n   hoy los toco y son como un imposible horizonte en\\n     que todo se ha perdido y no he de volverte a ver \\n    te he perdido tanto desde entonces!\\n    tanta y dura y grave nostalgia desde entonces!\\n   y hoy  de pie y lleno de sollozos ante tu cristal \\n   qué gran miedo de que no aparezcas  qué profundo\\n     miedo de que mi palabra vague y se pierda sin ti \\n\\n   he de decirte tantas calladas cosas  no importa\\n   tantas que no caben ni en el tuyo ni en mi corazón \\n   el espantoso miedo de que llame y  llame y llame y\\n     llame\\n     y tú dulcemente  te me mueras  callada \\n\\n   infinita  dulce y callada \\n18 de abril de 1947 \\n\\n'"
      ]
     },
     "execution_count": 22,
     "metadata": {},
     "output_type": "execute_result"
    }
   ],
   "source": [
    "arreglo4\n"
   ]
  },
  {
   "cell_type": "code",
   "execution_count": 23,
   "metadata": {},
   "outputs": [],
   "source": [
    "arreglo5 = arreglo4.replace('!', ' ')"
   ]
  },
  {
   "cell_type": "code",
   "execution_count": 24,
   "metadata": {},
   "outputs": [
    {
     "data": {
      "text/plain": [
       "'el encuentro\\n\\n   una larga  tremenda isla de sombra no me dejaba llegar a ti \\n   no  aun cuando tu nombre ya lo tenía en los labios \\n\\n   pero una isla \\n   pero un terrible recuerdo y un amor que no pudo atreverse nunca \\n\\n   y hasta hoy te reconozco  escondida en ti \\n     descubierta en mí \\n   algo impronunciable no me dejó llegar \\n\\n   y te veo hoy \\n   algo como una espantosa isla sin palabras donde\\n     nunca pude decir te quiero \\n   eres  sin embargo\\n   una quieta verdad gótica  impasible \\n     extraordinariamente pura \\n  \\n   no olvides  una isla que me dejó náufrago y no\\n     quiso entender las únicas palabras que no le dije \\n     un mar que no quería dejarme  un enemigo mar \\n     lleno de amor \\n\\n   y hoy te veo\\n   hoy  como un ancla  como un cuerpo profundo \\n     naces \\n   tu hermosa  tu dulce fragilidad  como un pequeño\\n     vaso al que podrían romper mis besos; tu\\n     cuerpo vertebrado donde casi no tiene lugar\\n     ni habitación mis labios  los vivos  vivísimos\\n     planetas de tus ojos  tu sencillísima entrega \\n   en silencio  sin voz  en mí estabas con tus brazos\\n     inmensos \\n   hoy los toco y son como un imposible horizonte en\\n     que todo se ha perdido y no he de volverte a ver \\n    te he perdido tanto desde entonces \\n    tanta y dura y grave nostalgia desde entonces \\n   y hoy  de pie y lleno de sollozos ante tu cristal \\n   qué gran miedo de que no aparezcas  qué profundo\\n     miedo de que mi palabra vague y se pierda sin ti \\n\\n   he de decirte tantas calladas cosas  no importa\\n   tantas que no caben ni en el tuyo ni en mi corazón \\n   el espantoso miedo de que llame y  llame y llame y\\n     llame\\n     y tú dulcemente  te me mueras  callada \\n\\n   infinita  dulce y callada \\n18 de abril de 1947 \\n\\n'"
      ]
     },
     "execution_count": 24,
     "metadata": {},
     "output_type": "execute_result"
    }
   ],
   "source": [
    "arreglo5"
   ]
  },
  {
   "cell_type": "code",
   "execution_count": 25,
   "metadata": {},
   "outputs": [],
   "source": [
    "unaccented_arreglo5 = unidecode.unidecode(arreglo5)"
   ]
  },
  {
   "cell_type": "code",
   "execution_count": 26,
   "metadata": {},
   "outputs": [
    {
     "data": {
      "text/plain": [
       "'el encuentro\\n\\n   una larga  tremenda isla de sombra no me dejaba llegar a ti \\n   no  aun cuando tu nombre ya lo tenia en los labios \\n\\n   pero una isla \\n   pero un terrible recuerdo y un amor que no pudo atreverse nunca \\n\\n   y hasta hoy te reconozco  escondida en ti \\n     descubierta en mi \\n   algo impronunciable no me dejo llegar \\n\\n   y te veo hoy \\n   algo como una espantosa isla sin palabras donde\\n     nunca pude decir te quiero \\n   eres  sin embargo\\n   una quieta verdad gotica  impasible \\n     extraordinariamente pura \\n  \\n   no olvides  una isla que me dejo naufrago y no\\n     quiso entender las unicas palabras que no le dije \\n     un mar que no queria dejarme  un enemigo mar \\n     lleno de amor \\n\\n   y hoy te veo\\n   hoy  como un ancla  como un cuerpo profundo \\n     naces \\n   tu hermosa  tu dulce fragilidad  como un pequeno\\n     vaso al que podrian romper mis besos; tu\\n     cuerpo vertebrado donde casi no tiene lugar\\n     ni habitacion mis labios  los vivos  vivisimos\\n     planetas de tus ojos  tu sencillisima entrega \\n   en silencio  sin voz  en mi estabas con tus brazos\\n     inmensos \\n   hoy los toco y son como un imposible horizonte en\\n     que todo se ha perdido y no he de volverte a ver \\n    te he perdido tanto desde entonces \\n    tanta y dura y grave nostalgia desde entonces \\n   y hoy  de pie y lleno de sollozos ante tu cristal \\n   que gran miedo de que no aparezcas  que profundo\\n     miedo de que mi palabra vague y se pierda sin ti \\n\\n   he de decirte tantas calladas cosas  no importa\\n   tantas que no caben ni en el tuyo ni en mi corazon \\n   el espantoso miedo de que llame y  llame y llame y\\n     llame\\n     y tu dulcemente  te me mueras  callada \\n\\n   infinita  dulce y callada \\n18 de abril de 1947 \\n\\n'"
      ]
     },
     "execution_count": 26,
     "metadata": {},
     "output_type": "execute_result"
    }
   ],
   "source": [
    "unaccented_arreglo5"
   ]
  },
  {
   "cell_type": "code",
   "execution_count": 27,
   "metadata": {},
   "outputs": [
    {
     "data": {
      "text/plain": [
       "'el encuentro     una larga  tremenda isla de sombra no me dejaba llegar a ti     no  aun cuando tu nombre ya lo tenia en los labios      pero una isla     pero un terrible recuerdo y un amor que no pudo atreverse nunca      y hasta hoy te reconozco  escondida en ti       descubierta en mi     algo impronunciable no me dejo llegar      y te veo hoy     algo como una espantosa isla sin palabras donde      nunca pude decir te quiero     eres  sin embargo    una quieta verdad gotica  impasible       extraordinariamente pura        no olvides  una isla que me dejo naufrago y no      quiso entender las unicas palabras que no le dije       un mar que no queria dejarme  un enemigo mar       lleno de amor      y hoy te veo    hoy  como un ancla  como un cuerpo profundo       naces     tu hermosa  tu dulce fragilidad  como un pequeno      vaso al que podrian romper mis besos; tu      cuerpo vertebrado donde casi no tiene lugar      ni habitacion mis labios  los vivos  vivisimos      planetas de tus ojos  tu sencillisima entrega     en silencio  sin voz  en mi estabas con tus brazos      inmensos     hoy los toco y son como un imposible horizonte en      que todo se ha perdido y no he de volverte a ver      te he perdido tanto desde entonces      tanta y dura y grave nostalgia desde entonces     y hoy  de pie y lleno de sollozos ante tu cristal     que gran miedo de que no aparezcas  que profundo      miedo de que mi palabra vague y se pierda sin ti      he de decirte tantas calladas cosas  no importa    tantas que no caben ni en el tuyo ni en mi corazon     el espantoso miedo de que llame y  llame y llame y      llame      y tu dulcemente  te me mueras  callada      infinita  dulce y callada  18 de abril de 1947   '"
      ]
     },
     "execution_count": 27,
     "metadata": {},
     "output_type": "execute_result"
    }
   ],
   "source": [
    "unaccented_arreglo5.replace('\\n', ' ')"
   ]
  },
  {
   "cell_type": "code",
   "execution_count": 28,
   "metadata": {},
   "outputs": [
    {
     "data": {
      "text/plain": [
       "'el encuentro\\n\\n   una larga  tremenda isla de sombra no me dejaba llegar a ti \\n   no  aun cuando tu nombre ya lo tenia en los labios \\n\\n   pero una isla \\n   pero un terrible recuerdo y un amor que no pudo atreverse nunca \\n\\n   y hasta hoy te reconozco  escondida en ti \\n     descubierta en mi \\n   algo impronunciable no me dejo llegar \\n\\n   y te veo hoy \\n   algo como una espantosa isla sin palabras donde\\n     nunca pude decir te quiero \\n   eres  sin embargo\\n   una quieta verdad gotica  impasible \\n     extraordinariamente pura \\n  \\n   no olvides  una isla que me dejo naufrago y no\\n     quiso entender las unicas palabras que no le dije \\n     un mar que no queria dejarme  un enemigo mar \\n     lleno de amor \\n\\n   y hoy te veo\\n   hoy  como un ancla  como un cuerpo profundo \\n     naces \\n   tu hermosa  tu dulce fragilidad  como un pequeno\\n     vaso al que podrian romper mis besos; tu\\n     cuerpo vertebrado donde casi no tiene lugar\\n     ni habitacion mis labios  los vivos  vivisimos\\n     planetas de tus ojos  tu sencillisima entrega \\n   en silencio  sin voz  en mi estabas con tus brazos\\n     inmensos \\n   hoy los toco y son como un imposible horizonte en\\n     que todo se ha perdido y no he de volverte a ver \\n    te he perdido tanto desde entonces \\n    tanta y dura y grave nostalgia desde entonces \\n   y hoy  de pie y lleno de sollozos ante tu cristal \\n   que gran miedo de que no aparezcas  que profundo\\n     miedo de que mi palabra vague y se pierda sin ti \\n\\n   he de decirte tantas calladas cosas  no importa\\n   tantas que no caben ni en el tuyo ni en mi corazon \\n   el espantoso miedo de que llame y  llame y llame y\\n     llame\\n     y tu dulcemente  te me mueras  callada \\n\\n   infinita  dulce y callada \\n18 de abril de 1947 \\n\\n'"
      ]
     },
     "execution_count": 28,
     "metadata": {},
     "output_type": "execute_result"
    }
   ],
   "source": [
    "unaccented_arreglo5.split()\n",
    "unaccented_arreglo5\n"
   ]
  },
  {
   "cell_type": "code",
   "execution_count": 29,
   "metadata": {},
   "outputs": [
    {
     "data": {
      "text/plain": [
       "'el encuentro     una larga  tremenda isla de sombra no me dejaba llegar a ti     no  aun cuando tu nombre ya lo tenia en los labios      pero una isla     pero un terrible recuerdo y un amor que no pudo atreverse nunca      y hasta hoy te reconozco  escondida en ti       descubierta en mi     algo impronunciable no me dejo llegar      y te veo hoy     algo como una espantosa isla sin palabras donde      nunca pude decir te quiero     eres  sin embargo    una quieta verdad gotica  impasible       extraordinariamente pura        no olvides  una isla que me dejo naufrago y no      quiso entender las unicas palabras que no le dije       un mar que no queria dejarme  un enemigo mar       lleno de amor      y hoy te veo    hoy  como un ancla  como un cuerpo profundo       naces     tu hermosa  tu dulce fragilidad  como un pequeno      vaso al que podrian romper mis besos; tu      cuerpo vertebrado donde casi no tiene lugar      ni habitacion mis labios  los vivos  vivisimos      planetas de tus ojos  tu sencillisima entrega     en silencio  sin voz  en mi estabas con tus brazos      inmensos     hoy los toco y son como un imposible horizonte en      que todo se ha perdido y no he de volverte a ver      te he perdido tanto desde entonces      tanta y dura y grave nostalgia desde entonces     y hoy  de pie y lleno de sollozos ante tu cristal     que gran miedo de que no aparezcas  que profundo      miedo de que mi palabra vague y se pierda sin ti      he de decirte tantas calladas cosas  no importa    tantas que no caben ni en el tuyo ni en mi corazon     el espantoso miedo de que llame y  llame y llame y      llame      y tu dulcemente  te me mueras  callada      infinita  dulce y callada  18 de abril de 1947   '"
      ]
     },
     "execution_count": 29,
     "metadata": {},
     "output_type": "execute_result"
    }
   ],
   "source": [
    "unaccented_arreglo5.replace('\\n', ' ')"
   ]
  },
  {
   "cell_type": "code",
   "execution_count": 30,
   "metadata": {},
   "outputs": [],
   "source": [
    "contador = unaccented_arreglo5.split()"
   ]
  },
  {
   "cell_type": "code",
   "execution_count": 31,
   "metadata": {},
   "outputs": [
    {
     "data": {
      "text/plain": [
       "{'18',\n",
       " '1947',\n",
       " 'a',\n",
       " 'abril',\n",
       " 'al',\n",
       " 'algo',\n",
       " 'amor',\n",
       " 'ancla',\n",
       " 'ante',\n",
       " 'aparezcas',\n",
       " 'atreverse',\n",
       " 'aun',\n",
       " 'besos;',\n",
       " 'brazos',\n",
       " 'caben',\n",
       " 'callada',\n",
       " 'calladas',\n",
       " 'casi',\n",
       " 'como',\n",
       " 'con',\n",
       " 'corazon',\n",
       " 'cosas',\n",
       " 'cristal',\n",
       " 'cuando',\n",
       " 'cuerpo',\n",
       " 'de',\n",
       " 'decir',\n",
       " 'decirte',\n",
       " 'dejaba',\n",
       " 'dejarme',\n",
       " 'dejo',\n",
       " 'descubierta',\n",
       " 'desde',\n",
       " 'dije',\n",
       " 'donde',\n",
       " 'dulce',\n",
       " 'dulcemente',\n",
       " 'dura',\n",
       " 'el',\n",
       " 'embargo',\n",
       " 'en',\n",
       " 'encuentro',\n",
       " 'enemigo',\n",
       " 'entender',\n",
       " 'entonces',\n",
       " 'entrega',\n",
       " 'eres',\n",
       " 'escondida',\n",
       " 'espantosa',\n",
       " 'espantoso',\n",
       " 'estabas',\n",
       " 'extraordinariamente',\n",
       " 'fragilidad',\n",
       " 'gotica',\n",
       " 'gran',\n",
       " 'grave',\n",
       " 'ha',\n",
       " 'habitacion',\n",
       " 'hasta',\n",
       " 'he',\n",
       " 'hermosa',\n",
       " 'horizonte',\n",
       " 'hoy',\n",
       " 'impasible',\n",
       " 'importa',\n",
       " 'imposible',\n",
       " 'impronunciable',\n",
       " 'infinita',\n",
       " 'inmensos',\n",
       " 'isla',\n",
       " 'labios',\n",
       " 'larga',\n",
       " 'las',\n",
       " 'le',\n",
       " 'llame',\n",
       " 'llegar',\n",
       " 'lleno',\n",
       " 'lo',\n",
       " 'los',\n",
       " 'lugar',\n",
       " 'mar',\n",
       " 'me',\n",
       " 'mi',\n",
       " 'miedo',\n",
       " 'mis',\n",
       " 'mueras',\n",
       " 'naces',\n",
       " 'naufrago',\n",
       " 'ni',\n",
       " 'no',\n",
       " 'nombre',\n",
       " 'nostalgia',\n",
       " 'nunca',\n",
       " 'ojos',\n",
       " 'olvides',\n",
       " 'palabra',\n",
       " 'palabras',\n",
       " 'pequeno',\n",
       " 'perdido',\n",
       " 'pero',\n",
       " 'pie',\n",
       " 'pierda',\n",
       " 'planetas',\n",
       " 'podrian',\n",
       " 'profundo',\n",
       " 'pude',\n",
       " 'pudo',\n",
       " 'pura',\n",
       " 'que',\n",
       " 'queria',\n",
       " 'quiero',\n",
       " 'quieta',\n",
       " 'quiso',\n",
       " 'reconozco',\n",
       " 'recuerdo',\n",
       " 'romper',\n",
       " 'se',\n",
       " 'sencillisima',\n",
       " 'silencio',\n",
       " 'sin',\n",
       " 'sollozos',\n",
       " 'sombra',\n",
       " 'son',\n",
       " 'tanta',\n",
       " 'tantas',\n",
       " 'tanto',\n",
       " 'te',\n",
       " 'tenia',\n",
       " 'terrible',\n",
       " 'ti',\n",
       " 'tiene',\n",
       " 'toco',\n",
       " 'todo',\n",
       " 'tremenda',\n",
       " 'tu',\n",
       " 'tus',\n",
       " 'tuyo',\n",
       " 'un',\n",
       " 'una',\n",
       " 'unicas',\n",
       " 'vague',\n",
       " 'vaso',\n",
       " 'veo',\n",
       " 'ver',\n",
       " 'verdad',\n",
       " 'vertebrado',\n",
       " 'vivisimos',\n",
       " 'vivos',\n",
       " 'volverte',\n",
       " 'voz',\n",
       " 'y',\n",
       " 'ya'}"
      ]
     },
     "execution_count": 31,
     "metadata": {},
     "output_type": "execute_result"
    }
   ],
   "source": [
    "set(contador)"
   ]
  },
  {
   "cell_type": "code",
   "execution_count": 32,
   "metadata": {},
   "outputs": [
    {
     "name": "stdout",
     "output_type": "stream",
     "text": [
      "el 3\n",
      "encuentro 1\n",
      "una 5\n",
      "larga 1\n",
      "tremenda 1\n",
      "isla 4\n",
      "de 12\n",
      "sombra 1\n",
      "no 13\n",
      "me 4\n",
      "dejaba 1\n",
      "llegar 2\n",
      "a 2\n",
      "ti 3\n",
      "no 13\n",
      "aun 1\n",
      "cuando 1\n",
      "tu 7\n",
      "nombre 1\n",
      "ya 1\n",
      "lo 1\n",
      "tenia 1\n",
      "en 8\n",
      "los 3\n",
      "labios 2\n",
      "pero 2\n",
      "una 5\n",
      "isla 4\n",
      "pero 2\n",
      "un 8\n",
      "terrible 1\n",
      "recuerdo 1\n",
      "y 17\n",
      "un 8\n",
      "amor 2\n",
      "que 12\n",
      "no 13\n",
      "pudo 1\n",
      "atreverse 1\n",
      "nunca 2\n",
      "y 17\n",
      "hasta 1\n",
      "hoy 6\n",
      "te 6\n",
      "reconozco 1\n",
      "escondida 1\n",
      "en 8\n",
      "ti 3\n",
      "descubierta 1\n",
      "en 8\n",
      "mi 4\n",
      "algo 2\n",
      "impronunciable 1\n",
      "no 13\n",
      "me 4\n",
      "dejo 2\n",
      "llegar 2\n",
      "y 17\n",
      "te 6\n",
      "veo 2\n",
      "hoy 6\n",
      "algo 2\n",
      "como 5\n",
      "una 5\n",
      "espantosa 1\n",
      "isla 4\n",
      "sin 4\n",
      "palabras 2\n",
      "donde 2\n",
      "nunca 2\n",
      "pude 1\n",
      "decir 1\n",
      "te 6\n",
      "quiero 1\n",
      "eres 1\n",
      "sin 4\n",
      "embargo 1\n",
      "una 5\n",
      "quieta 1\n",
      "verdad 1\n",
      "gotica 1\n",
      "impasible 1\n",
      "extraordinariamente 1\n",
      "pura 1\n",
      "no 13\n",
      "olvides 1\n",
      "una 5\n",
      "isla 4\n",
      "que 12\n",
      "me 4\n",
      "dejo 2\n",
      "naufrago 1\n",
      "y 17\n",
      "no 13\n",
      "quiso 1\n",
      "entender 1\n",
      "las 1\n",
      "unicas 1\n",
      "palabras 2\n",
      "que 12\n",
      "no 13\n",
      "le 1\n",
      "dije 1\n",
      "un 8\n",
      "mar 2\n",
      "que 12\n",
      "no 13\n",
      "queria 1\n",
      "dejarme 1\n",
      "un 8\n",
      "enemigo 1\n",
      "mar 2\n",
      "lleno 2\n",
      "de 12\n",
      "amor 2\n",
      "y 17\n",
      "hoy 6\n",
      "te 6\n",
      "veo 2\n",
      "hoy 6\n",
      "como 5\n",
      "un 8\n",
      "ancla 1\n",
      "como 5\n",
      "un 8\n",
      "cuerpo 2\n",
      "profundo 2\n",
      "naces 1\n",
      "tu 7\n",
      "hermosa 1\n",
      "tu 7\n",
      "dulce 2\n",
      "fragilidad 1\n",
      "como 5\n",
      "un 8\n",
      "pequeno 1\n",
      "vaso 1\n",
      "al 1\n",
      "que 12\n",
      "podrian 1\n",
      "romper 1\n",
      "mis 2\n",
      "besos; 1\n",
      "tu 7\n",
      "cuerpo 2\n",
      "vertebrado 1\n",
      "donde 2\n",
      "casi 1\n",
      "no 13\n",
      "tiene 1\n",
      "lugar 1\n",
      "ni 3\n",
      "habitacion 1\n",
      "mis 2\n",
      "labios 2\n",
      "los 3\n",
      "vivos 1\n",
      "vivisimos 1\n",
      "planetas 1\n",
      "de 12\n",
      "tus 2\n",
      "ojos 1\n",
      "tu 7\n",
      "sencillisima 1\n",
      "entrega 1\n",
      "en 8\n",
      "silencio 1\n",
      "sin 4\n",
      "voz 1\n",
      "en 8\n",
      "mi 4\n",
      "estabas 1\n",
      "con 1\n",
      "tus 2\n",
      "brazos 1\n",
      "inmensos 1\n",
      "hoy 6\n",
      "los 3\n",
      "toco 1\n",
      "y 17\n",
      "son 1\n",
      "como 5\n",
      "un 8\n",
      "imposible 1\n",
      "horizonte 1\n",
      "en 8\n",
      "que 12\n",
      "todo 1\n",
      "se 2\n",
      "ha 1\n",
      "perdido 2\n",
      "y 17\n",
      "no 13\n",
      "he 3\n",
      "de 12\n",
      "volverte 1\n",
      "a 2\n",
      "ver 1\n",
      "te 6\n",
      "he 3\n",
      "perdido 2\n",
      "tanto 1\n",
      "desde 2\n",
      "entonces 2\n",
      "tanta 1\n",
      "y 17\n",
      "dura 1\n",
      "y 17\n",
      "grave 1\n",
      "nostalgia 1\n",
      "desde 2\n",
      "entonces 2\n",
      "y 17\n",
      "hoy 6\n",
      "de 12\n",
      "pie 1\n",
      "y 17\n",
      "lleno 2\n",
      "de 12\n",
      "sollozos 1\n",
      "ante 1\n",
      "tu 7\n",
      "cristal 1\n",
      "que 12\n",
      "gran 1\n",
      "miedo 3\n",
      "de 12\n",
      "que 12\n",
      "no 13\n",
      "aparezcas 1\n",
      "que 12\n",
      "profundo 2\n",
      "miedo 3\n",
      "de 12\n",
      "que 12\n",
      "mi 4\n",
      "palabra 1\n",
      "vague 1\n",
      "y 17\n",
      "se 2\n",
      "pierda 1\n",
      "sin 4\n",
      "ti 3\n",
      "he 3\n",
      "de 12\n",
      "decirte 1\n",
      "tantas 2\n",
      "calladas 1\n",
      "cosas 1\n",
      "no 13\n",
      "importa 1\n",
      "tantas 2\n",
      "que 12\n",
      "no 13\n",
      "caben 1\n",
      "ni 3\n",
      "en 8\n",
      "el 3\n",
      "tuyo 1\n",
      "ni 3\n",
      "en 8\n",
      "mi 4\n",
      "corazon 1\n",
      "el 3\n",
      "espantoso 1\n",
      "miedo 3\n",
      "de 12\n",
      "que 12\n",
      "llame 4\n",
      "y 17\n",
      "llame 4\n",
      "y 17\n",
      "llame 4\n",
      "y 17\n",
      "llame 4\n",
      "y 17\n",
      "tu 7\n",
      "dulcemente 1\n",
      "te 6\n",
      "me 4\n",
      "mueras 1\n",
      "callada 2\n",
      "infinita 1\n",
      "dulce 2\n",
      "y 17\n",
      "callada 2\n",
      "18 1\n",
      "de 12\n",
      "abril 1\n",
      "de 12\n",
      "1947 1\n"
     ]
    }
   ],
   "source": [
    "\n",
    "for i in contador:\n",
    "    print(i, contador.count(i))\n",
    "    \n"
   ]
  },
  {
   "cell_type": "code",
   "execution_count": null,
   "metadata": {},
   "outputs": [],
   "source": []
  },
  {
   "cell_type": "code",
   "execution_count": null,
   "metadata": {},
   "outputs": [],
   "source": []
  },
  {
   "cell_type": "code",
   "execution_count": null,
   "metadata": {},
   "outputs": [],
   "source": []
  },
  {
   "cell_type": "code",
   "execution_count": null,
   "metadata": {},
   "outputs": [],
   "source": []
  }
 ],
 "metadata": {
  "kernelspec": {
   "display_name": "Python 3",
   "language": "python",
   "name": "python3"
  },
  "language_info": {
   "codemirror_mode": {
    "name": "ipython",
    "version": 3
   },
   "file_extension": ".py",
   "mimetype": "text/x-python",
   "name": "python",
   "nbconvert_exporter": "python",
   "pygments_lexer": "ipython3",
   "version": "3.8.5"
  }
 },
 "nbformat": 4,
 "nbformat_minor": 4
}
